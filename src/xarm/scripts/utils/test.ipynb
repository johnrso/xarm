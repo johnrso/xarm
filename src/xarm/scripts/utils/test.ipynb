{
 "cells": [
  {
   "cell_type": "code",
   "execution_count": 24,
   "metadata": {},
   "outputs": [],
   "source": [
    "import h5py\n",
    "import numpy"
   ]
  },
  {
   "cell_type": "code",
   "execution_count": 26,
   "metadata": {},
   "outputs": [],
   "source": [
    "# open two different h5 files.\n",
    "f1 = h5py.File('/data/dataset/0324_big_red_dataset_m_w_s/traj_21.h5', 'r')\n",
    "f2 = h5py.File('/data/dataset/0324_big_red_dataset_s/t/traj_21.h5', 'r')"
   ]
  },
  {
   "cell_type": "code",
   "execution_count": 27,
   "metadata": {},
   "outputs": [],
   "source": [
    "actions_1 = f1[list(f1.keys())[0]][\"dict_str_actions\"][:]\n",
    "actions_2 = f2[list(f2.keys())[0]][\"dict_str_actions\"][:]\n",
    "\n",
    "f1.close()\n",
    "f2.close()"
   ]
  },
  {
   "cell_type": "code",
   "execution_count": 28,
   "metadata": {},
   "outputs": [
    {
     "ename": "ValueError",
     "evalue": "Invalid dataset identifier (invalid dataset identifier)",
     "output_type": "error",
     "traceback": [
      "\u001b[0;31m---------------------------------------------------------------------------\u001b[0m",
      "\u001b[0;31mValueError\u001b[0m                                Traceback (most recent call last)",
      "Cell \u001b[0;32mIn[28], line 1\u001b[0m\n\u001b[0;32m----> 1\u001b[0m \u001b[39mprint\u001b[39m(actions_1\u001b[39m.\u001b[39;49mshape)\n\u001b[1;32m      2\u001b[0m \u001b[39mprint\u001b[39m(actions_2\u001b[39m.\u001b[39mshape)\n",
      "File \u001b[0;32m~/miniconda3/envs/im/lib/python3.9/site-packages/h5py/_hl/dataset.py:474\u001b[0m, in \u001b[0;36mDataset.shape\u001b[0;34m(self)\u001b[0m\n\u001b[1;32m    471\u001b[0m     \u001b[39mreturn\u001b[39;00m \u001b[39mself\u001b[39m\u001b[39m.\u001b[39m_cache_props[\u001b[39m'\u001b[39m\u001b[39mshape\u001b[39m\u001b[39m'\u001b[39m]\n\u001b[1;32m    473\u001b[0m \u001b[39mwith\u001b[39;00m phil:\n\u001b[0;32m--> 474\u001b[0m     shape \u001b[39m=\u001b[39m \u001b[39mself\u001b[39;49m\u001b[39m.\u001b[39;49mid\u001b[39m.\u001b[39;49mshape\n\u001b[1;32m    476\u001b[0m \u001b[39m# If the file is read-only, cache the shape to speed-up future uses.\u001b[39;00m\n\u001b[1;32m    477\u001b[0m \u001b[39m# This cache is invalidated by .refresh() when using SWMR.\u001b[39;00m\n\u001b[1;32m    478\u001b[0m \u001b[39mif\u001b[39;00m \u001b[39mself\u001b[39m\u001b[39m.\u001b[39m_readonly:\n",
      "File \u001b[0;32mh5py/h5d.pyx:190\u001b[0m, in \u001b[0;36mh5py.h5d.DatasetID.shape.__get__\u001b[0;34m()\u001b[0m\n",
      "File \u001b[0;32mh5py/h5d.pyx:191\u001b[0m, in \u001b[0;36mh5py.h5d.DatasetID.shape.__get__\u001b[0;34m()\u001b[0m\n",
      "File \u001b[0;32mh5py/_objects.pyx:54\u001b[0m, in \u001b[0;36mh5py._objects.with_phil.wrapper\u001b[0;34m()\u001b[0m\n",
      "File \u001b[0;32mh5py/_objects.pyx:55\u001b[0m, in \u001b[0;36mh5py._objects.with_phil.wrapper\u001b[0;34m()\u001b[0m\n",
      "File \u001b[0;32mh5py/h5d.pyx:347\u001b[0m, in \u001b[0;36mh5py.h5d.DatasetID.get_space\u001b[0;34m()\u001b[0m\n",
      "\u001b[0;31mValueError\u001b[0m: Invalid dataset identifier (invalid dataset identifier)"
     ]
    }
   ],
   "source": [
    "print(actions_1.shape)\n",
    "print(actions_2.shape)"
   ]
  },
  {
   "cell_type": "code",
   "execution_count": 29,
   "metadata": {},
   "outputs": [
    {
     "ename": "ValueError",
     "evalue": "Invalid dataset identifier (invalid dataset identifier)",
     "output_type": "error",
     "traceback": [
      "\u001b[0;31m---------------------------------------------------------------------------\u001b[0m",
      "\u001b[0;31mValueError\u001b[0m                                Traceback (most recent call last)",
      "Cell \u001b[0;32mIn[29], line 2\u001b[0m\n\u001b[1;32m      1\u001b[0m \u001b[39mfor\u001b[39;00m i \u001b[39min\u001b[39;00m \u001b[39mrange\u001b[39m(\u001b[39m0\u001b[39m,\u001b[39m-\u001b[39m\u001b[39m20\u001b[39m,\u001b[39m-\u001b[39m\u001b[39m1\u001b[39m):\n\u001b[0;32m----> 2\u001b[0m     p1 \u001b[39m=\u001b[39m actions_1[i][:\u001b[39m3\u001b[39m]\n\u001b[1;32m      3\u001b[0m     p2 \u001b[39m=\u001b[39m actions_2[i][:\u001b[39m3\u001b[39m] \u001b[39m/\u001b[39m \u001b[39m.1\u001b[39m\n\u001b[1;32m      5\u001b[0m     \u001b[39mprint\u001b[39m(\u001b[39msum\u001b[39m((p1\u001b[39m-\u001b[39mp2)))\n",
      "File \u001b[0;32mh5py/_objects.pyx:54\u001b[0m, in \u001b[0;36mh5py._objects.with_phil.wrapper\u001b[0;34m()\u001b[0m\n",
      "File \u001b[0;32mh5py/_objects.pyx:55\u001b[0m, in \u001b[0;36mh5py._objects.with_phil.wrapper\u001b[0;34m()\u001b[0m\n",
      "File \u001b[0;32m~/miniconda3/envs/im/lib/python3.9/site-packages/h5py/_hl/dataset.py:766\u001b[0m, in \u001b[0;36mDataset.__getitem__\u001b[0;34m(self, args, new_dtype)\u001b[0m\n\u001b[1;32m    763\u001b[0m \u001b[39mif\u001b[39;00m new_dtype \u001b[39mis\u001b[39;00m \u001b[39mNone\u001b[39;00m:\n\u001b[1;32m    764\u001b[0m     new_dtype \u001b[39m=\u001b[39m \u001b[39mgetattr\u001b[39m(\u001b[39mself\u001b[39m\u001b[39m.\u001b[39m_local, \u001b[39m'\u001b[39m\u001b[39mastype\u001b[39m\u001b[39m'\u001b[39m, \u001b[39mNone\u001b[39;00m)\n\u001b[0;32m--> 766\u001b[0m \u001b[39mif\u001b[39;00m \u001b[39mself\u001b[39;49m\u001b[39m.\u001b[39;49m_fast_read_ok \u001b[39mand\u001b[39;00m (new_dtype \u001b[39mis\u001b[39;00m \u001b[39mNone\u001b[39;00m):\n\u001b[1;32m    767\u001b[0m     \u001b[39mtry\u001b[39;00m:\n\u001b[1;32m    768\u001b[0m         \u001b[39mreturn\u001b[39;00m \u001b[39mself\u001b[39m\u001b[39m.\u001b[39m_fast_reader\u001b[39m.\u001b[39mread(args)\n",
      "File \u001b[0;32m~/miniconda3/envs/im/lib/python3.9/site-packages/h5py/_hl/base.py:534\u001b[0m, in \u001b[0;36mcached_property.__get__\u001b[0;34m(self, obj, cls)\u001b[0m\n\u001b[1;32m    531\u001b[0m \u001b[39mif\u001b[39;00m obj \u001b[39mis\u001b[39;00m \u001b[39mNone\u001b[39;00m:\n\u001b[1;32m    532\u001b[0m     \u001b[39mreturn\u001b[39;00m \u001b[39mself\u001b[39m\n\u001b[0;32m--> 534\u001b[0m value \u001b[39m=\u001b[39m obj\u001b[39m.\u001b[39m\u001b[39m__dict__\u001b[39m[\u001b[39mself\u001b[39m\u001b[39m.\u001b[39mfunc\u001b[39m.\u001b[39m\u001b[39m__name__\u001b[39m] \u001b[39m=\u001b[39m \u001b[39mself\u001b[39;49m\u001b[39m.\u001b[39;49mfunc(obj)\n\u001b[1;32m    535\u001b[0m \u001b[39mreturn\u001b[39;00m value\n",
      "File \u001b[0;32m~/miniconda3/envs/im/lib/python3.9/site-packages/h5py/_hl/dataset.py:745\u001b[0m, in \u001b[0;36mDataset._fast_read_ok\u001b[0;34m(self)\u001b[0m\n\u001b[1;32m    741\u001b[0m \u001b[39m@cached_property\u001b[39m\n\u001b[1;32m    742\u001b[0m \u001b[39mdef\u001b[39;00m \u001b[39m_fast_read_ok\u001b[39m(\u001b[39mself\u001b[39m):\n\u001b[1;32m    743\u001b[0m \u001b[39m    \u001b[39m\u001b[39m\"\"\"Is this dataset suitable for simple reading\"\"\"\u001b[39;00m\n\u001b[1;32m    744\u001b[0m     \u001b[39mreturn\u001b[39;00m (\n\u001b[0;32m--> 745\u001b[0m         \u001b[39mself\u001b[39;49m\u001b[39m.\u001b[39;49m_extent_type \u001b[39m==\u001b[39m h5s\u001b[39m.\u001b[39mSIMPLE\n\u001b[1;32m    746\u001b[0m         \u001b[39mand\u001b[39;00m \u001b[39misinstance\u001b[39m(\u001b[39mself\u001b[39m\u001b[39m.\u001b[39mid\u001b[39m.\u001b[39mget_type(), (h5t\u001b[39m.\u001b[39mTypeIntegerID, h5t\u001b[39m.\u001b[39mTypeFloatID))\n\u001b[1;32m    747\u001b[0m     )\n",
      "File \u001b[0;32m~/miniconda3/envs/im/lib/python3.9/site-packages/h5py/_hl/base.py:534\u001b[0m, in \u001b[0;36mcached_property.__get__\u001b[0;34m(self, obj, cls)\u001b[0m\n\u001b[1;32m    531\u001b[0m \u001b[39mif\u001b[39;00m obj \u001b[39mis\u001b[39;00m \u001b[39mNone\u001b[39;00m:\n\u001b[1;32m    532\u001b[0m     \u001b[39mreturn\u001b[39;00m \u001b[39mself\u001b[39m\n\u001b[0;32m--> 534\u001b[0m value \u001b[39m=\u001b[39m obj\u001b[39m.\u001b[39m\u001b[39m__dict__\u001b[39m[\u001b[39mself\u001b[39m\u001b[39m.\u001b[39mfunc\u001b[39m.\u001b[39m\u001b[39m__name__\u001b[39m] \u001b[39m=\u001b[39m \u001b[39mself\u001b[39;49m\u001b[39m.\u001b[39;49mfunc(obj)\n\u001b[1;32m    535\u001b[0m \u001b[39mreturn\u001b[39;00m value\n",
      "File \u001b[0;32mh5py/_objects.pyx:54\u001b[0m, in \u001b[0;36mh5py._objects.with_phil.wrapper\u001b[0;34m()\u001b[0m\n",
      "File \u001b[0;32mh5py/_objects.pyx:55\u001b[0m, in \u001b[0;36mh5py._objects.with_phil.wrapper\u001b[0;34m()\u001b[0m\n",
      "File \u001b[0;32m~/miniconda3/envs/im/lib/python3.9/site-packages/h5py/_hl/dataset.py:634\u001b[0m, in \u001b[0;36mDataset._extent_type\u001b[0;34m(self)\u001b[0m\n\u001b[1;32m    630\u001b[0m \u001b[39m@cached_property\u001b[39m\n\u001b[1;32m    631\u001b[0m \u001b[39m@with_phil\u001b[39m\n\u001b[1;32m    632\u001b[0m \u001b[39mdef\u001b[39;00m \u001b[39m_extent_type\u001b[39m(\u001b[39mself\u001b[39m):\n\u001b[1;32m    633\u001b[0m \u001b[39m    \u001b[39m\u001b[39m\"\"\"Get extent type for this dataset - SIMPLE, SCALAR or NULL\"\"\"\u001b[39;00m\n\u001b[0;32m--> 634\u001b[0m     \u001b[39mreturn\u001b[39;00m \u001b[39mself\u001b[39;49m\u001b[39m.\u001b[39;49mid\u001b[39m.\u001b[39;49mget_space()\u001b[39m.\u001b[39mget_simple_extent_type()\n",
      "File \u001b[0;32mh5py/_objects.pyx:54\u001b[0m, in \u001b[0;36mh5py._objects.with_phil.wrapper\u001b[0;34m()\u001b[0m\n",
      "File \u001b[0;32mh5py/_objects.pyx:55\u001b[0m, in \u001b[0;36mh5py._objects.with_phil.wrapper\u001b[0;34m()\u001b[0m\n",
      "File \u001b[0;32mh5py/h5d.pyx:347\u001b[0m, in \u001b[0;36mh5py.h5d.DatasetID.get_space\u001b[0;34m()\u001b[0m\n",
      "\u001b[0;31mValueError\u001b[0m: Invalid dataset identifier (invalid dataset identifier)"
     ]
    }
   ],
   "source": [
    "for i in range(0,-20,-1):\n",
    "    p1 = actions_1[i][:3]\n",
    "    p2 = actions_2[i][:3] / .1\n",
    "\n",
    "    print(sum((p1-p2)))\n"
   ]
  },
  {
   "cell_type": "code",
   "execution_count": 11,
   "metadata": {},
   "outputs": [
    {
     "name": "stdout",
     "output_type": "stream",
     "text": [
      "[ 4.24135420e-02 -3.91944944e-03 -2.50424018e-02 -9.99950565e-01\n",
      "  8.43444952e-03  5.26184660e-03  2.03365984e-04  0.00000000e+00]\n"
     ]
    }
   ],
   "source": []
  },
  {
   "cell_type": "code",
   "execution_count": null,
   "metadata": {},
   "outputs": [],
   "source": []
  }
 ],
 "metadata": {
  "kernelspec": {
   "display_name": "im",
   "language": "python",
   "name": "python3"
  },
  "language_info": {
   "codemirror_mode": {
    "name": "ipython",
    "version": 3
   },
   "file_extension": ".py",
   "mimetype": "text/x-python",
   "name": "python",
   "nbconvert_exporter": "python",
   "pygments_lexer": "ipython3",
   "version": "3.9.0"
  },
  "orig_nbformat": 4
 },
 "nbformat": 4,
 "nbformat_minor": 2
}
